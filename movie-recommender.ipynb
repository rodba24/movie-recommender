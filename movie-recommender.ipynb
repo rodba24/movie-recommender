{
 "cells": [
  {
   "cell_type": "code",
   "execution_count": null,
   "id": "9702c3b6-f3cc-44cd-a95a-9be06b6e08e4",
   "metadata": {},
   "outputs": [],
   "source": [
    "import pandas as pd\n",
    "import numpy as np"
   ]
  },
  {
   "cell_type": "code",
   "execution_count": null,
   "id": "92e3fc25-48cd-42b8-90a1-64eeb95357e5",
   "metadata": {},
   "outputs": [],
   "source": [
    "\n",
    "# Reload the data to fix the overwrite issue\n",
    "movies = pd.read_csv('tmdb_5000_movies.csv')\n",
    "credits = pd.read_csv('tmdb_5000_credits.csv')\n",
    "\n",
    "# Merge the DataFrames\n",
    "merged_movies = movies.merge(credits, on='title')\n",
    "\n",
    "# Check the shape without overwriting `movies`\n",
    "print(merged_movies.shape)  # Prints the shape of the merged DataFrame\n"
   ]
  },
  {
   "cell_type": "code",
   "execution_count": null,
   "id": "1ba97323-954a-4957-896e-7852cd4bb41f",
   "metadata": {},
   "outputs": [],
   "source": [
    "merged_movies.head()"
   ]
  },
  {
   "cell_type": "code",
   "execution_count": null,
   "id": "41ba7005-0898-499c-bda6-15f27bae2062",
   "metadata": {},
   "outputs": [],
   "source": [
    "merged_movies = merged_movies[['movie_id','title','overview','genres','keywords','cast','crew']]"
   ]
  },
  {
   "cell_type": "code",
   "execution_count": null,
   "id": "1359acea-c68e-4c08-b42c-61ff47403205",
   "metadata": {},
   "outputs": [],
   "source": [
    "merged_movies.head()"
   ]
  },
  {
   "cell_type": "code",
   "execution_count": null,
   "id": "aab49e07-b51e-4117-9311-2f737f3f5474",
   "metadata": {},
   "outputs": [],
   "source": [
    "merged_movies.isnull().sum()"
   ]
  },
  {
   "cell_type": "code",
   "execution_count": null,
   "id": "573c6d57-4633-4dbc-b2dc-737eedae482b",
   "metadata": {},
   "outputs": [],
   "source": [
    "merged_movies.dropna(inplace=True)"
   ]
  },
  {
   "cell_type": "code",
   "execution_count": null,
   "id": "22be464c-fd79-41b8-a68f-e02736214a99",
   "metadata": {},
   "outputs": [],
   "source": [
    "import ast\n",
    "def convert(obj):\n",
    "    L = []\n",
    "    for i in ast.literal_eval(obj): \n",
    "        L.append(i['name'])\n",
    "    return L"
   ]
  },
  {
   "cell_type": "code",
   "execution_count": null,
   "id": "e6c3cdd8-8bdd-41c4-893f-ba7fe8aeec55",
   "metadata": {},
   "outputs": [],
   "source": [
    "newgenre = merged_movies['genres'].apply(convert)"
   ]
  },
  {
   "cell_type": "code",
   "execution_count": null,
   "id": "91b4ff3e-bc5c-499b-bd3a-ee292f03a6fd",
   "metadata": {},
   "outputs": [],
   "source": [
    "newgenre.head()"
   ]
  },
  {
   "cell_type": "code",
   "execution_count": null,
   "id": "e93c9fae-abc8-403c-9d03-1dbe24bf2192",
   "metadata": {},
   "outputs": [],
   "source": [
    "merged_movies['genres'] = newgenre"
   ]
  },
  {
   "cell_type": "code",
   "execution_count": null,
   "id": "457ca644-4f6a-4ecc-8d4b-392ffa8fb833",
   "metadata": {},
   "outputs": [],
   "source": [
    "merged_movies.head()"
   ]
  },
  {
   "cell_type": "code",
   "execution_count": null,
   "id": "1af4d505-c8c8-4191-8da9-7a43cf0c6f69",
   "metadata": {},
   "outputs": [],
   "source": [
    "newkeyword = merged_movies['keywords'].apply(convert)"
   ]
  },
  {
   "cell_type": "code",
   "execution_count": null,
   "id": "c39b79da-6c4a-428a-a6ed-b74ea3f8091d",
   "metadata": {},
   "outputs": [],
   "source": [
    "merged_movies['keywords'] = newkeyword"
   ]
  },
  {
   "cell_type": "code",
   "execution_count": null,
   "id": "19db85b0-9c75-444d-ab53-5770052c5acf",
   "metadata": {},
   "outputs": [],
   "source": [
    "def convertCastTop3(obj):\n",
    "    L =[]\n",
    "    counter = 0;\n",
    "    for i in ast.literal_eval(obj):\n",
    "        if counter != 3:\n",
    "            L.append(i['name'])\n",
    "            counter+=1\n",
    "        else:\n",
    "            break\n",
    "    return L"
   ]
  },
  {
   "cell_type": "code",
   "execution_count": null,
   "id": "f07b22cc-a07a-44b3-bf29-658e33d1f8df",
   "metadata": {},
   "outputs": [],
   "source": [
    "newCast = merged_movies['cast'].apply(convertCastTop3)"
   ]
  },
  {
   "cell_type": "code",
   "execution_count": null,
   "id": "f5d5aba4-11ee-46ad-8ec2-f1f2470006c5",
   "metadata": {},
   "outputs": [],
   "source": [
    "merged_movies['cast'] = newCast"
   ]
  },
  {
   "cell_type": "code",
   "execution_count": null,
   "id": "3adffece-75b8-42f6-b74b-c4a982b30527",
   "metadata": {},
   "outputs": [],
   "source": [
    "def fetchDirector(obj):\n",
    "    L =[]\n",
    "    for i in ast.literal_eval(obj):\n",
    "        if i['job'] == 'Director':\n",
    "            L.append(i['name'])\n",
    "            break\n",
    "    return L"
   ]
  },
  {
   "cell_type": "code",
   "execution_count": null,
   "id": "1e11716d-19c6-44d0-a210-9051eae73757",
   "metadata": {},
   "outputs": [],
   "source": [
    "newCrew = merged_movies['crew'].apply(fetchDirector)"
   ]
  },
  {
   "cell_type": "code",
   "execution_count": null,
   "id": "80979aac-c75a-41cf-9359-31290f857b7d",
   "metadata": {},
   "outputs": [],
   "source": [
    "merged_movies['crew'] = newCrew"
   ]
  },
  {
   "cell_type": "code",
   "execution_count": null,
   "id": "73bd7ff2-f7af-48af-ae56-1c108992a018",
   "metadata": {},
   "outputs": [],
   "source": [
    "merged_movies['overview'][0]"
   ]
  },
  {
   "cell_type": "code",
   "execution_count": null,
   "id": "fbfb79ee-3729-44d9-83a7-d8b7f0f06fb9",
   "metadata": {},
   "outputs": [],
   "source": [
    "newOverview = merged_movies['overview'].apply(lambda x:x.split())"
   ]
  },
  {
   "cell_type": "code",
   "execution_count": null,
   "id": "ed6343f5-df7d-460a-b7e1-0baefa6d950c",
   "metadata": {},
   "outputs": [],
   "source": [
    "merged_movies['overview'] = newOverview"
   ]
  },
  {
   "cell_type": "code",
   "execution_count": null,
   "id": "899d9fb0-426f-4f98-9e3f-6c303390554e",
   "metadata": {},
   "outputs": [],
   "source": [
    "merged_movies.head()"
   ]
  },
  {
   "cell_type": "code",
   "execution_count": null,
   "id": "21069ead-26b9-44f5-aac9-514ebb63b61b",
   "metadata": {},
   "outputs": [],
   "source": [
    "merged_movies['genres'] = newgenre.apply(lambda x:[i.replace(\" \",\"\")for i in x])\n",
    "merged_movies['cast']= newCast.apply(lambda x:[i.replace(\" \",\"\")for i in x])\n",
    "merged_movies['crew']= newCrew.apply(lambda x:[i.replace(\" \",\"\")for i in x])\n",
    "merged_movies['keywords']= newkeyword.apply(lambda x:[i.replace(\" \",\"\")for i in x])\n"
   ]
  },
  {
   "cell_type": "code",
   "execution_count": null,
   "id": "d8765171-222b-4173-b0a7-792267886fd9",
   "metadata": {},
   "outputs": [],
   "source": [
    "merged_movies.head()"
   ]
  },
  {
   "cell_type": "code",
   "execution_count": null,
   "id": "7bb5ee52-bf0c-4c27-9668-fcdf0aa787ed",
   "metadata": {},
   "outputs": [],
   "source": [
    "merged_movies['tags']= merged_movies['overview']+ merged_movies['genres'] + merged_movies['keywords']+ merged_movies['cast'] + merged_movies['crew']"
   ]
  },
  {
   "cell_type": "code",
   "execution_count": null,
   "id": "8220ac74-430d-4315-b476-a8a270d8ed6d",
   "metadata": {},
   "outputs": [],
   "source": [
    "merged_movies.head()"
   ]
  },
  {
   "cell_type": "code",
   "execution_count": null,
   "id": "d4a937c7-0bf6-46a1-bed9-0a36ec5f02ca",
   "metadata": {},
   "outputs": [],
   "source": [
    "new_df = merged_movies[['movie_id','title','tags']]"
   ]
  },
  {
   "cell_type": "code",
   "execution_count": null,
   "id": "80c089dd-0bf0-4c20-a4f2-cb020b02d259",
   "metadata": {},
   "outputs": [],
   "source": [
    "new_df"
   ]
  },
  {
   "cell_type": "code",
   "execution_count": null,
   "id": "e5c8396c-6ba1-4d48-9593-14d5062b7728",
   "metadata": {},
   "outputs": [],
   "source": [
    "new_df['tags'][0]"
   ]
  },
  {
   "cell_type": "code",
   "execution_count": null,
   "id": "ef07c492-c026-41ae-9cc3-99e61c70e88c",
   "metadata": {},
   "outputs": [],
   "source": [
    "# Clean each element and join the list into a single string\n",
    "new_df['tags'] = new_df['tags'].apply(lambda x: \" \".join(word.strip(' ,.') for word in x))\n"
   ]
  },
  {
   "cell_type": "code",
   "execution_count": null,
   "id": "1c423bf9-44d5-4630-b3ad-f92915628101",
   "metadata": {},
   "outputs": [],
   "source": [
    "new_df\n"
   ]
  },
  {
   "cell_type": "code",
   "execution_count": null,
   "id": "ef954933-d66d-4ac1-a142-495c36575580",
   "metadata": {},
   "outputs": [],
   "source": [
    "new_df['tags'][0]"
   ]
  },
  {
   "cell_type": "code",
   "execution_count": null,
   "id": "6029b0d6-db14-490b-a79f-c453b5df6ad6",
   "metadata": {},
   "outputs": [],
   "source": [
    "new_df['tags'] = new_df['tags'].apply(lambda x:x.lower())"
   ]
  },
  {
   "cell_type": "code",
   "execution_count": null,
   "id": "35a8d76d-7985-44f5-a5a2-57dcdbbf815e",
   "metadata": {},
   "outputs": [],
   "source": [
    "new_df"
   ]
  },
  {
   "cell_type": "code",
   "execution_count": null,
   "id": "7384748d-4166-43fd-92ed-4211f80f6a6f",
   "metadata": {},
   "outputs": [],
   "source": [
    "new_df['tags'][0]"
   ]
  },
  {
   "cell_type": "code",
   "execution_count": null,
   "id": "10d3d29a-0ecf-4987-a896-b628e0d59ee3",
   "metadata": {},
   "outputs": [],
   "source": [
    "import sklearn"
   ]
  },
  {
   "cell_type": "code",
   "execution_count": null,
   "id": "7fdb7647-7726-4d60-ad7e-e960b50ace8e",
   "metadata": {},
   "outputs": [],
   "source": [
    "from sklearn.feature_extraction.text import CountVectorizer"
   ]
  },
  {
   "cell_type": "code",
   "execution_count": null,
   "id": "95460616-330c-4b60-bb05-7325b8bdb620",
   "metadata": {},
   "outputs": [],
   "source": [
    "cv = CountVectorizer(max_features=5000, stop_words =\"english\")"
   ]
  },
  {
   "cell_type": "code",
   "execution_count": null,
   "id": "737894c4-a246-43e9-aaa4-228110fc4f8c",
   "metadata": {},
   "outputs": [],
   "source": [
    "vectors = cv.fit_transform(new_df['tags']).toarray()"
   ]
  },
  {
   "cell_type": "code",
   "execution_count": null,
   "id": "75653a57-7cb3-48f2-b2b7-f692ecc9f281",
   "metadata": {},
   "outputs": [],
   "source": [
    "print(cv.get_feature_names_out())  # List of all words in the vocabulary\n"
   ]
  },
  {
   "cell_type": "code",
   "execution_count": null,
   "id": "8d72c629-4ea2-4384-ad83-186959e81cbf",
   "metadata": {},
   "outputs": [],
   "source": [
    "vectors"
   ]
  },
  {
   "cell_type": "code",
   "execution_count": null,
   "id": "3f8ded1c-e5f7-48fa-b62a-d6bd78420413",
   "metadata": {},
   "outputs": [],
   "source": [
    "vectors[0]"
   ]
  },
  {
   "cell_type": "code",
   "execution_count": null,
   "id": "8385b172-a226-474e-af4e-dd4d1be53d02",
   "metadata": {},
   "outputs": [],
   "source": [
    "cv.get_feature_names_out()"
   ]
  },
  {
   "cell_type": "code",
   "execution_count": null,
   "id": "1247215b-a2f9-44a6-9c03-d1db814fbb1c",
   "metadata": {},
   "outputs": [],
   "source": [
    "!pip install nltk"
   ]
  },
  {
   "cell_type": "code",
   "execution_count": null,
   "id": "b5184b98-c34f-4f20-824a-17bc62079723",
   "metadata": {},
   "outputs": [],
   "source": [
    "import nltk\n",
    "from nltk.stem.porter import PorterStemmer\n",
    "ps = PorterStemmer()"
   ]
  },
  {
   "cell_type": "code",
   "execution_count": null,
   "id": "d56aab3b-97e7-4c75-97fa-f40ea1a7cb52",
   "metadata": {},
   "outputs": [],
   "source": [
    "def stem(text):\n",
    "    y =[]\n",
    "\n",
    "    for i in text.split():\n",
    "        y.append(ps.stem(i))\n",
    "\n",
    "    return \" \".join(y)"
   ]
  },
  {
   "cell_type": "code",
   "execution_count": null,
   "id": "6b1b448b-43fc-4582-8524-dcf7e288d7b7",
   "metadata": {},
   "outputs": [],
   "source": [
    "stem('in the 22nd century a paraplegic marine is dispatched to the moon pandora on a unique mission but becomes torn between following orders and protecting an alien civilization action adventure fantasy sciencefiction cultureclash future spacewar spacecolony society spacetravel futuristic romance space alien tribe alienplanet cgi marine soldier battle loveaffair antiwar powerrelations mindandsoul 3d samworthington zoesaldana sigourneyweaver jamescameron'\n",
    "    )"
   ]
  },
  {
   "cell_type": "code",
   "execution_count": null,
   "id": "d9b0d0cb-7ee3-497b-ad62-13c24d3a81c0",
   "metadata": {},
   "outputs": [],
   "source": [
    "new_df['tags'] = new_df['tags'].apply(stem)"
   ]
  },
  {
   "cell_type": "code",
   "execution_count": null,
   "id": "efd98815-4204-4140-8e40-21565f0871c2",
   "metadata": {},
   "outputs": [],
   "source": [
    "new_df #4806 movies and 5000 words and each movie is a vector\n",
    "#find distance btween two vectors"
   ]
  },
  {
   "cell_type": "code",
   "execution_count": null,
   "id": "49473359-19d5-422f-a0d6-c9e55e814aae",
   "metadata": {},
   "outputs": [],
   "source": [
    "from sklearn.metrics.pairwise import cosine_similarity"
   ]
  },
  {
   "cell_type": "code",
   "execution_count": null,
   "id": "41da2864-197a-4ab9-93b8-9313d3991408",
   "metadata": {},
   "outputs": [],
   "source": [
    "similarity = cosine_similarity(vectors)"
   ]
  },
  {
   "cell_type": "code",
   "execution_count": null,
   "id": "5cdd21e8-6a25-4f89-a10d-d2812656da55",
   "metadata": {},
   "outputs": [],
   "source": [
    "similarity # every movie is similar to itself diagonal is always 1"
   ]
  },
  {
   "cell_type": "code",
   "execution_count": null,
   "id": "af5d5148-943a-4152-a8e4-36851af86d1d",
   "metadata": {},
   "outputs": [],
   "source": [
    "def recommend(movie):\n",
    "    movie_index = new_df[new_df['title'] == movie].index[0]\n",
    "    distances= similarity[movie_index]\n",
    "    movie_list = sorted(list(enumerate(distances)),reverse=True,key = lambda x:x [1])[1:6]\n",
    "\n",
    "    for i in movie_list:\n",
    "        print(new_df.iloc[i[0]].title)"
   ]
  },
  {
   "cell_type": "code",
   "execution_count": null,
   "id": "8e5f7a26-6e7f-47eb-b10b-dbf0d002e068",
   "metadata": {},
   "outputs": [],
   "source": [
    "recommend('Avatar')"
   ]
  },
  {
   "cell_type": "code",
   "execution_count": null,
   "id": "41665450-6725-4638-b45e-1e57077a2215",
   "metadata": {},
   "outputs": [],
   "source": [
    "recommend('Iron Man')"
   ]
  },
  {
   "cell_type": "code",
   "execution_count": null,
   "id": "6b551149-e60d-41eb-bb78-e0f25d64e6be",
   "metadata": {},
   "outputs": [],
   "source": [
    "recommend('The Avengers')"
   ]
  },
  {
   "cell_type": "code",
   "execution_count": null,
   "id": "8c27e511-efc4-4318-a03c-9a0d9fc45856",
   "metadata": {},
   "outputs": [],
   "source": [
    "recommend( \"Harry Potter and the Sorcerer's Stone\")"
   ]
  },
  {
   "cell_type": "code",
   "execution_count": null,
   "id": "76cd1c45-27df-4242-b7b1-151e32cb3064",
   "metadata": {},
   "outputs": [],
   "source": [
    "import pickle"
   ]
  },
  {
   "cell_type": "code",
   "execution_count": null,
   "id": "61b1a072-e329-4a37-95be-b1d3cfc3516a",
   "metadata": {},
   "outputs": [],
   "source": [
    "new_df['title'].values"
   ]
  },
  {
   "cell_type": "code",
   "execution_count": null,
   "id": "2978b066-e45c-49da-9af2-2b92a8f12241",
   "metadata": {},
   "outputs": [],
   "source": [
    "new_df.to_dict()"
   ]
  },
  {
   "cell_type": "code",
   "execution_count": null,
   "id": "a5965c0a-3ad2-493b-b866-2ed14b966c04",
   "metadata": {},
   "outputs": [],
   "source": [
    "pickle.dump(new_df.to_dict(),open('movie_dict.pkl', 'wb'))"
   ]
  },
  {
   "cell_type": "code",
   "execution_count": null,
   "id": "7fee092f-1d82-49f2-a936-feb6a58bd052",
   "metadata": {},
   "outputs": [],
   "source": [
    "pickle.dump(similarity,open('similarity.pkl', 'wb'))"
   ]
  },
  {
   "cell_type": "code",
   "execution_count": null,
   "id": "12b21e2e-bae7-4b56-8a09-8baf9708290a",
   "metadata": {},
   "outputs": [],
   "source": []
  }
 ],
 "metadata": {
  "kernelspec": {
   "display_name": "Python [conda env:base] *",
   "language": "python",
   "name": "conda-base-py"
  },
  "language_info": {
   "codemirror_mode": {
    "name": "ipython",
    "version": 3
   },
   "file_extension": ".py",
   "mimetype": "text/x-python",
   "name": "python",
   "nbconvert_exporter": "python",
   "pygments_lexer": "ipython3",
   "version": "3.12.7"
  }
 },
 "nbformat": 4,
 "nbformat_minor": 5
}
